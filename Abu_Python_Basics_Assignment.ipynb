{
  "nbformat": 4,
  "nbformat_minor": 0,
  "metadata": {
    "colab": {
      "provenance": []
    },
    "kernelspec": {
      "name": "python3",
      "display_name": "Python 3"
    },
    "language_info": {
      "name": "python"
    }
  },
  "cells": [
    {
      "cell_type": "markdown",
      "source": [
        "# Assignment: Python Basics\n"
      ],
      "metadata": {
        "id": "KD9tn_99PL_9"
      }
    },
    {
      "cell_type": "markdown",
      "source": [
        "# Name: Abu"
      ],
      "metadata": {
        "id": "6SsrCfBTYSfN"
      }
    },
    {
      "cell_type": "code",
      "execution_count": null,
      "metadata": {
        "id": "H69KOE0jPK9W"
      },
      "outputs": [],
      "source": [
        "# Theoretical Questions"
      ]
    },
    {
      "cell_type": "markdown",
      "source": [
        "# Course: DATA SCIENCE WITH GENRATIVE AI"
      ],
      "metadata": {
        "id": "WfHVQQJ6YmMM"
      }
    },
    {
      "cell_type": "markdown",
      "source": [
        "1. What is Python, and why is it popular?\n",
        "    \n",
        "    - Python is a high-level, interpreted programming language that is easy to read, learn, and use\n",
        "   \n",
        "    - It is popular because of its simplicity, large community support, cross-platform nature,\n",
        "   and wide use in fields like web development, data science, AI, and automation"
      ],
      "metadata": {
        "id": "ogNbNtR_cX0N"
      }
    },
    {
      "cell_type": "markdown",
      "source": [
        "2. What is an interpreter in Python?\n",
        "     - An interpreter is a program that executes Python code line by line"
      ],
      "metadata": {
        "id": "mqSd9b-agqCG"
      }
    },
    {
      "cell_type": "markdown",
      "source": [
        "3. What are pre-defined keywords in Python?\n",
        "     - Keywords are reserved words in Python that have a special meaning\n",
        "    and cannot be used as variable names (e.g., if, else, while, for, def, class)"
      ],
      "metadata": {
        "id": "9RO-DDhlhAl9"
      }
    },
    {
      "cell_type": "markdown",
      "source": [
        "4. Can keywords be used as variable names?\n",
        "      -   No, keywords cannot be used as variable names in Python because\n",
        "      they are reserved for specific functionalities  "
      ],
      "metadata": {
        "id": "0USMYIBmh3Wb"
      }
    },
    {
      "cell_type": "markdown",
      "source": [
        "5. What is mutability in Python?\n",
        "      \n",
        "      - Mutability means the ability of an object to be changed after it is created\n",
        "      \n",
        "      "
      ],
      "metadata": {
        "id": "PvCVz407iSXk"
      }
    },
    {
      "cell_type": "markdown",
      "source": [
        "6. Why are lists mutable, but tuples are immutable?\n",
        "      - Lists allow modifications like adding, removing, or updating elements\n",
        "      - Tuples are designed to store fixed data that should not change\n",
        "      "
      ],
      "metadata": {
        "id": "iA8w_feGjqt5"
      }
    },
    {
      "cell_type": "markdown",
      "source": [
        "7. What is the difference between “==” and “is” operators in Python?\n",
        "\n",
        "       - \"==\" checks if two objects have the same value\n",
        "       - \"is\" checks if two objects share the same memory location (identity)"
      ],
      "metadata": {
        "id": "Ur_GEy2bkle7"
      }
    },
    {
      "cell_type": "markdown",
      "source": [
        "# Practical Questions"
      ],
      "metadata": {
        "id": "u9QmTREElWCj"
      }
    },
    {
      "cell_type": "markdown",
      "source": [
        "# Q1: Write a Python program to print \"Hello, World!\"\n",
        "\n"
      ],
      "metadata": {
        "id": "aS6bBNJ3lnLN"
      }
    },
    {
      "cell_type": "code",
      "source": [
        "# → Answer:"
      ],
      "metadata": {
        "id": "-PgQrN5Al-3H"
      },
      "execution_count": null,
      "outputs": []
    },
    {
      "cell_type": "code",
      "source": [
        "print(\"Hello, World!\")"
      ],
      "metadata": {
        "colab": {
          "base_uri": "https://localhost:8080/"
        },
        "id": "GatU7DtcmBzX",
        "outputId": "5c24b56b-8117-4a36-85c8-b674f5a4e93b"
      },
      "execution_count": 2,
      "outputs": [
        {
          "output_type": "stream",
          "name": "stdout",
          "text": [
            "Hello, World!\n"
          ]
        }
      ]
    },
    {
      "cell_type": "markdown",
      "source": [
        "# Q2: Write a Python program that displays your name and age"
      ],
      "metadata": {
        "id": "CpotMOy3l_9K"
      }
    },
    {
      "cell_type": "code",
      "source": [
        "# → Answer:"
      ],
      "metadata": {
        "id": "Bd0iX7XcmNZF"
      },
      "execution_count": 3,
      "outputs": []
    },
    {
      "cell_type": "code",
      "source": [
        "name = \"Abu\"\n",
        "age = 23\n",
        "print(\"My name is\", name, \"and my age is\", age)"
      ],
      "metadata": {
        "colab": {
          "base_uri": "https://localhost:8080/"
        },
        "id": "r8rDvrVHmlXW",
        "outputId": "db0f44c7-2144-4efd-fa19-2382685a6dba"
      },
      "execution_count": 1,
      "outputs": [
        {
          "output_type": "stream",
          "name": "stdout",
          "text": [
            "My name is Abu and my age is 23\n"
          ]
        }
      ]
    },
    {
      "cell_type": "markdown",
      "source": [
        "Q3: Write code to print all the pre-defined keywords in Python using the keyword library"
      ],
      "metadata": {
        "id": "o3sS0Vd_nDOZ"
      }
    },
    {
      "cell_type": "code",
      "source": [
        "# → Answer:"
      ],
      "metadata": {
        "id": "B1eZEsFYnI7b"
      },
      "execution_count": 4,
      "outputs": []
    },
    {
      "cell_type": "code",
      "source": [
        "import keyword\n",
        "print(\"Python Keywords →\", keyword.kwlist)"
      ],
      "metadata": {
        "colab": {
          "base_uri": "https://localhost:8080/"
        },
        "id": "ONreVayZnNZ0",
        "outputId": "eb1bf628-2816-4ad4-8a4d-10a5c381bb3d"
      },
      "execution_count": 5,
      "outputs": [
        {
          "output_type": "stream",
          "name": "stdout",
          "text": [
            "Python Keywords → ['False', 'None', 'True', 'and', 'as', 'assert', 'async', 'await', 'break', 'class', 'continue', 'def', 'del', 'elif', 'else', 'except', 'finally', 'for', 'from', 'global', 'if', 'import', 'in', 'is', 'lambda', 'nonlocal', 'not', 'or', 'pass', 'raise', 'return', 'try', 'while', 'with', 'yield']\n"
          ]
        }
      ]
    },
    {
      "cell_type": "markdown",
      "source": [
        "Q4: Write a program that checks if a given word is a Python keyword"
      ],
      "metadata": {
        "id": "z20emHX4nUUu"
      }
    },
    {
      "cell_type": "code",
      "source": [
        "# → Answer:"
      ],
      "metadata": {
        "id": "9g6qRSG9nT2B"
      },
      "execution_count": null,
      "outputs": []
    },
    {
      "cell_type": "code",
      "source": [
        "word = \"for\"\n",
        "if keyword.iskeyword(word):\n",
        "    print(word, \"is a keyword\")\n",
        "else:\n",
        "    print(word, \"is not a keyword\")"
      ],
      "metadata": {
        "colab": {
          "base_uri": "https://localhost:8080/"
        },
        "id": "8Su0vLAzninH",
        "outputId": "58e7bcdf-8034-4092-f41f-e4a512d6fd51"
      },
      "execution_count": 6,
      "outputs": [
        {
          "output_type": "stream",
          "name": "stdout",
          "text": [
            "for is a keyword\n"
          ]
        }
      ]
    },
    {
      "cell_type": "markdown",
      "source": [
        " Q5: Create a list and tuple in Python, and demonstrate how attempting to change an element works differently for each"
      ],
      "metadata": {
        "id": "1QZBorm0l3M-"
      }
    },
    {
      "cell_type": "code",
      "source": [
        "# → Answer:"
      ],
      "metadata": {
        "id": "yQtxsZlvnvfg"
      },
      "execution_count": 7,
      "outputs": []
    },
    {
      "cell_type": "code",
      "source": [
        "my_list = [1, 2, 3]\n",
        "my_tuple = (1, 2, 3)\n",
        "print(\"Original list →\", my_list)\n",
        "print(\"Original tuple →\", my_tuple)\n",
        "\n",
        "# Changing list element\n",
        "my_list[0] = 10\n",
        "print(\"Modified list →\", my_list)\n",
        "\n",
        "# Changing tuple element (will cause error if uncommented)\n",
        "# my_tuple[0] = 10  # → This will raise TypeError\n"
      ],
      "metadata": {
        "colab": {
          "base_uri": "https://localhost:8080/"
        },
        "id": "1EQPEtKZnzkk",
        "outputId": "8c38481a-595c-481f-fe12-1993d4e77ff9"
      },
      "execution_count": 8,
      "outputs": [
        {
          "output_type": "stream",
          "name": "stdout",
          "text": [
            "Original list → [1, 2, 3]\n",
            "Original tuple → (1, 2, 3)\n",
            "Modified list → [10, 2, 3]\n"
          ]
        }
      ]
    },
    {
      "cell_type": "markdown",
      "source": [
        "Q6: Write a function to demonstrate the behavior of mutable and immutable arguments"
      ],
      "metadata": {
        "id": "ZiFkwxL0n8OD"
      }
    },
    {
      "cell_type": "code",
      "source": [
        "# → Answer:"
      ],
      "metadata": {
        "id": "S39IShfCoBLt"
      },
      "execution_count": 9,
      "outputs": []
    },
    {
      "cell_type": "code",
      "source": [
        "def modify_list(lst):\n",
        "    lst.append(100)\n",
        "    print(\"Inside function (mutable) →\", lst)\n",
        "\n",
        "def modify_int(x):\n",
        "    x += 10\n",
        "    print(\"Inside function (immutable) →\", x)\n",
        "\n",
        "my_lst = [1, 2, 3]\n",
        "modify_list(my_lst)\n",
        "print(\"Outside function →\", my_lst)\n",
        "\n",
        "num = 5\n",
        "modify_int(num)\n",
        "print(\"Outside function →\", num)"
      ],
      "metadata": {
        "colab": {
          "base_uri": "https://localhost:8080/"
        },
        "id": "2fQpv22VoEzQ",
        "outputId": "7991f9ff-3367-4c8d-c46a-4b6f9f2220fe"
      },
      "execution_count": 10,
      "outputs": [
        {
          "output_type": "stream",
          "name": "stdout",
          "text": [
            "Inside function (mutable) → [1, 2, 3, 100]\n",
            "Outside function → [1, 2, 3, 100]\n",
            "Inside function (immutable) → 15\n",
            "Outside function → 5\n"
          ]
        }
      ]
    },
    {
      "cell_type": "markdown",
      "source": [
        "Q7: Write a program that performs basic arithmetic operations on two user-input numbers"
      ],
      "metadata": {
        "id": "4McYJr4roNKw"
      }
    },
    {
      "cell_type": "code",
      "source": [
        "# → Answer:"
      ],
      "metadata": {
        "id": "Tdfkt04OoRvc"
      },
      "execution_count": 11,
      "outputs": []
    },
    {
      "cell_type": "markdown",
      "source": [],
      "metadata": {
        "id": "abRUX30zpvv5"
      }
    },
    {
      "cell_type": "code",
      "source": [
        "a = float(input(\"Enter first number → \"))\n",
        "b = float(input(\"Enter second number → \"))\n",
        "\n",
        "print(\"Addition →\", a + b)\n",
        "print(\"Subtraction →\", a - b)\n",
        "print(\"Multiplication →\", a * b)\n",
        "print(\"Division →\", a / b)\n"
      ],
      "metadata": {
        "colab": {
          "base_uri": "https://localhost:8080/"
        },
        "id": "TWdB10dxoVW1",
        "outputId": "e7ece988-0e99-481f-aabb-73911ec6cf4f"
      },
      "execution_count": 13,
      "outputs": [
        {
          "output_type": "stream",
          "name": "stdout",
          "text": [
            "Enter first number → 10\n",
            "Enter second number → 5\n",
            "Addition → 15.0\n",
            "Subtraction → 5.0\n",
            "Multiplication → 50.0\n",
            "Division → 2.0\n"
          ]
        }
      ]
    },
    {
      "cell_type": "markdown",
      "metadata": {
        "id": "069fe813"
      },
      "source": [
        "It looks like the execution was interrupted while waiting for input. Please run the cell again to enter the numbers."
      ]
    },
    {
      "cell_type": "markdown",
      "source": [
        "Q8: Write a program to demonstrate the use of logical operators"
      ],
      "metadata": {
        "id": "N2s_uiVlqTPv"
      }
    },
    {
      "cell_type": "code",
      "source": [
        "# → Answer:"
      ],
      "metadata": {
        "id": "Vpdza-dXqdGA"
      },
      "execution_count": 14,
      "outputs": []
    },
    {
      "cell_type": "code",
      "source": [
        "x = True\n",
        "y = False\n",
        "print(\"x and y →\", x and y)\n",
        "print(\"x or y →\", x or y)\n",
        "print(\"not x →\", not x)"
      ],
      "metadata": {
        "colab": {
          "base_uri": "https://localhost:8080/"
        },
        "id": "TPiwZW0wqgxt",
        "outputId": "222da70b-8ae5-4d9a-e29f-d685b5caee04"
      },
      "execution_count": 15,
      "outputs": [
        {
          "output_type": "stream",
          "name": "stdout",
          "text": [
            "x and y → False\n",
            "x or y → True\n",
            "not x → False\n"
          ]
        }
      ]
    },
    {
      "cell_type": "markdown",
      "source": [
        "Q9: Write a Python program to convert user input from string to integer, float, and boolean types"
      ],
      "metadata": {
        "id": "kzHrFN8zqlHT"
      }
    },
    {
      "cell_type": "code",
      "source": [
        "# → Answer:"
      ],
      "metadata": {
        "id": "MVzFD5_Eqrok"
      },
      "execution_count": null,
      "outputs": []
    },
    {
      "cell_type": "code",
      "source": [
        "val = input(\"Enter a value → \")\n",
        "print(\"Integer →\", int(val))\n",
        "print(\"Float →\", float(val))\n",
        "print(\"Boolean →\", bool(val))"
      ],
      "metadata": {
        "colab": {
          "base_uri": "https://localhost:8080/"
        },
        "id": "aSgZIU88qyZT",
        "outputId": "ed4fef5a-04fc-48cd-a2a6-f0d3d5f01fad"
      },
      "execution_count": 16,
      "outputs": [
        {
          "output_type": "stream",
          "name": "stdout",
          "text": [
            "Enter a value → 10\n",
            "Integer → 10\n",
            "Float → 10.0\n",
            "Boolean → True\n"
          ]
        }
      ]
    },
    {
      "cell_type": "markdown",
      "source": [
        "Q10: Write code to demonstrate type casting with list elements"
      ],
      "metadata": {
        "id": "8_JKJc37rPUA"
      }
    },
    {
      "cell_type": "code",
      "source": [
        "# → Answer:"
      ],
      "metadata": {
        "id": "lcMGPmXcqvj3"
      },
      "execution_count": null,
      "outputs": []
    },
    {
      "cell_type": "code",
      "source": [
        "lst = [\"1\", \"2\", \"3\"]\n",
        "int_list = [int(x) for x in lst]\n",
        "print(\"Original list →\", lst)\n",
        "print(\"Integer list →\", int_list)"
      ],
      "metadata": {
        "colab": {
          "base_uri": "https://localhost:8080/"
        },
        "id": "8Ouqp8fHrbBR",
        "outputId": "901cbbec-8ac7-438a-e6e9-d785fe05c558"
      },
      "execution_count": 17,
      "outputs": [
        {
          "output_type": "stream",
          "name": "stdout",
          "text": [
            "Original list → ['1', '2', '3']\n",
            "Integer list → [1, 2, 3]\n"
          ]
        }
      ]
    },
    {
      "cell_type": "markdown",
      "source": [
        " Q11: Write a program that checks if a number is positive, negative, or zero"
      ],
      "metadata": {
        "id": "CJwDT0jurfTh"
      }
    },
    {
      "cell_type": "code",
      "source": [
        "# → Answer:"
      ],
      "metadata": {
        "id": "8EmeeyoQrkOJ"
      },
      "execution_count": 18,
      "outputs": []
    },
    {
      "cell_type": "code",
      "source": [
        "num = float(input(\"Enter a number → \"))\n",
        "if num > 0:\n",
        "    print(\"Positive\")\n",
        "elif num < 0:\n",
        "    print(\"Negative\")\n",
        "else:\n",
        "    print(\"Zero\")"
      ],
      "metadata": {
        "colab": {
          "base_uri": "https://localhost:8080/"
        },
        "id": "Bsv3p2BWrs3U",
        "outputId": "bee944c5-26be-4017-9649-d2e179828e97"
      },
      "execution_count": 19,
      "outputs": [
        {
          "output_type": "stream",
          "name": "stdout",
          "text": [
            "Enter a number → 10\n",
            "Positive\n"
          ]
        }
      ]
    },
    {
      "cell_type": "markdown",
      "source": [
        "Q12: Write a for loop to print numbers from 1 to 10"
      ],
      "metadata": {
        "id": "Ov7Lmn2Ar5P_"
      }
    },
    {
      "cell_type": "code",
      "source": [
        "# → Answer:"
      ],
      "metadata": {
        "id": "H6NYPxhjsYg8"
      },
      "execution_count": 22,
      "outputs": []
    },
    {
      "cell_type": "code",
      "source": [
        "for i in range(1, 11):\n",
        "    print(i, end=\" \")\n",
        "print()  # New line"
      ],
      "metadata": {
        "colab": {
          "base_uri": "https://localhost:8080/"
        },
        "id": "2Clhvl1zscej",
        "outputId": "41b08ee0-ec1a-4493-d06f-011ef908885b"
      },
      "execution_count": 20,
      "outputs": [
        {
          "output_type": "stream",
          "name": "stdout",
          "text": [
            "1 2 3 4 5 6 7 8 9 10 \n"
          ]
        }
      ]
    },
    {
      "cell_type": "markdown",
      "source": [
        " Q13: Write a Python program to find the sum of all even numbers between 1 and 50"
      ],
      "metadata": {
        "id": "LqkPiloishXu"
      }
    },
    {
      "cell_type": "code",
      "source": [
        "# → Answer:"
      ],
      "metadata": {
        "id": "AMaUeaIbsmq6"
      },
      "execution_count": 24,
      "outputs": []
    },
    {
      "cell_type": "code",
      "source": [
        "sum_even = sum(i for i in range(2, 51, 2))\n",
        "print(\"Sum of even numbers →\", sum_even)"
      ],
      "metadata": {
        "colab": {
          "base_uri": "https://localhost:8080/"
        },
        "id": "HysYnDlxsqiK",
        "outputId": "6a194f67-5456-4937-cfdf-93cb1f81de7c"
      },
      "execution_count": 23,
      "outputs": [
        {
          "output_type": "stream",
          "name": "stdout",
          "text": [
            "Sum of even numbers → 650\n"
          ]
        }
      ]
    },
    {
      "cell_type": "markdown",
      "source": [
        "Q14: Write a program to reverse a string using a while loop"
      ],
      "metadata": {
        "id": "D3Lg_Kcasw4q"
      }
    },
    {
      "cell_type": "code",
      "source": [
        "# → Answer:"
      ],
      "metadata": {
        "id": "HoBT9G6Hs3Vm"
      },
      "execution_count": 26,
      "outputs": []
    },
    {
      "cell_type": "code",
      "source": [
        "s = input(\"Enter a string → \")\n",
        "reversed_s = \"\"\n",
        "i = len(s) - 1\n",
        "while i >= 0:\n",
        "    reversed_s += s[i]\n",
        "    i -= 1\n",
        "print(\"Reversed string →\", reversed_s)"
      ],
      "metadata": {
        "colab": {
          "base_uri": "https://localhost:8080/"
        },
        "id": "2drc7NObs7Hv",
        "outputId": "f607e010-4e17-469b-9a0a-07ea5ffe3c65"
      },
      "execution_count": 25,
      "outputs": [
        {
          "output_type": "stream",
          "name": "stdout",
          "text": [
            "Enter a string → Abu\n",
            "Reversed string → ubA\n"
          ]
        }
      ]
    },
    {
      "cell_type": "markdown",
      "source": [
        " Q15: Write a Python program to calculate the factorial of a number provided by the user using a while loop\n",
        ""
      ],
      "metadata": {
        "id": "wcA2Cj1atQa2"
      }
    },
    {
      "cell_type": "code",
      "source": [
        "# → Answer:"
      ],
      "metadata": {
        "id": "OHtNXUlutaLO"
      },
      "execution_count": 27,
      "outputs": []
    },
    {
      "cell_type": "code",
      "source": [
        "n = int(input(\"Enter a number → \"))\n",
        "factorial = 1\n",
        "i = 1\n",
        "while i <= n:\n",
        "    factorial *= i\n",
        "    i += 1\n",
        "print(f\"Factorial of {n} →\", factorial)"
      ],
      "metadata": {
        "colab": {
          "base_uri": "https://localhost:8080/"
        },
        "id": "ecFvwHAXteoR",
        "outputId": "8085e123-c78f-4248-a4cf-de8b1229a4aa"
      },
      "execution_count": 28,
      "outputs": [
        {
          "output_type": "stream",
          "name": "stdout",
          "text": [
            "Enter a number → 10\n",
            "Factorial of 10 → 3628800\n"
          ]
        }
      ]
    }
  ]
}